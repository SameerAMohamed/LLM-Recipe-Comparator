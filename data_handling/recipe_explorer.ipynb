{
 "cells": [
  {
   "cell_type": "code",
   "execution_count": 1,
   "id": "initial_id",
   "metadata": {
    "ExecuteTime": {
     "end_time": "2023-10-26T01:20:38.404960979Z",
     "start_time": "2023-10-26T01:20:37.806986918Z"
    }
   },
   "outputs": [],
   "source": [
    "# Read in filtered_recipes.parquet\n",
    "import pandas as pd\n",
    "recipes = pd.read_parquet('filtered_recipes_4.parquet')"
   ]
  },
  {
   "cell_type": "code",
   "execution_count": 2,
   "id": "faef1de6d29807ac",
   "metadata": {
    "ExecuteTime": {
     "end_time": "2023-10-26T01:20:38.929162639Z",
     "start_time": "2023-10-26T01:20:38.897217970Z"
    }
   },
   "outputs": [],
   "source": [
    "from tqdm.notebook import tqdm\n",
    "import numpy as np\n",
    "tqdm.pandas()"
   ]
  },
  {
   "cell_type": "code",
   "execution_count": 3,
   "id": "177f3eafe4a7c1de",
   "metadata": {
    "ExecuteTime": {
     "end_time": "2023-10-26T01:20:39.184781428Z",
     "start_time": "2023-10-26T01:20:39.180218044Z"
    }
   },
   "outputs": [
    {
     "data": {
      "text/plain": "(56811, 29)"
     },
     "execution_count": 3,
     "metadata": {},
     "output_type": "execute_result"
    }
   ],
   "source": [
    "recipes.shape"
   ]
  },
  {
   "cell_type": "code",
   "execution_count": 4,
   "id": "23c7813b1475cfea",
   "metadata": {
    "ExecuteTime": {
     "end_time": "2023-10-26T01:20:39.361730349Z",
     "start_time": "2023-10-26T01:20:39.359837098Z"
    }
   },
   "outputs": [
    {
     "data": {
      "text/plain": "Index(['RecipeId', 'Name', 'AuthorId', 'AuthorName', 'CookTime', 'PrepTime',\n       'TotalTime', 'DatePublished', 'Description', 'Images', 'RecipeCategory',\n       'Keywords', 'RecipeIngredientQuantities', 'RecipeIngredientParts',\n       'AggregatedRating', 'ReviewCount', 'Calories', 'FatContent',\n       'SaturatedFatContent', 'CholesterolContent', 'SodiumContent',\n       'CarbohydrateContent', 'FiberContent', 'SugarContent', 'ProteinContent',\n       'RecipeServings', 'RecipeYield', 'RecipeInstructions', 'AverageRating'],\n      dtype='object')"
     },
     "execution_count": 4,
     "metadata": {},
     "output_type": "execute_result"
    }
   ],
   "source": [
    "recipes.columns"
   ]
  },
  {
   "cell_type": "code",
   "execution_count": 5,
   "id": "905e43a855aa8ca0",
   "metadata": {
    "ExecuteTime": {
     "end_time": "2023-10-26T01:20:40.872750850Z",
     "start_time": "2023-10-26T01:20:40.847579871Z"
    }
   },
   "outputs": [
    {
     "data": {
      "text/plain": "    RecipeId                      Name  AuthorId          AuthorName CookTime  \\\n2       40.0             Best Lemonade      1566      Stephen Little     PT5M   \n6       44.0    Warm Chicken A La King      1596       Joan Edington     PT3M   \n11      49.0  Chicken Breasts Lombardi    174711    Queen Dragon Mom    PT30M   \n16      54.0               Carrot Cake      1535  Marg CaymanDesigns    PT50M   \n18      56.0            Buttermilk Pie      1581            thefensk     PT1H   \n\n   PrepTime TotalTime             DatePublished  \\\n2     PT30M     PT35M 1999-09-05 19:52:00+00:00   \n6     PT35M     PT38M 1999-09-17 04:47:00+00:00   \n11    PT45M   PT1H15M 1999-08-14 19:58:00+00:00   \n16    PT45M   PT1H35M 1999-09-13 15:20:00+00:00   \n18    PT20M   PT1H20M 1999-08-30 10:02:00+00:00   \n\n                                          Description  \\\n2   This is from one of my  first Good House Keepi...   \n6   I copied this one out of a friend's book so ma...   \n11  Make and share this Chicken Breasts Lombardi r...   \n16  This is one of the few recipes my husband ever...   \n18  This recipe was originally noted by my wife on...   \n\n                                               Images  ... CholesterolContent  \\\n2   [https://img.sndimg.com/food/image/upload/w_55...  ...                0.0   \n6   [https://img.sndimg.com/food/image/upload/w_55...  ...              405.8   \n11  [https://img.sndimg.com/food/image/upload/w_55...  ...              203.0   \n16  [https://img.sndimg.com/food/image/upload/w_55...  ...               69.8   \n18  [https://img.sndimg.com/food/image/upload/w_55...  ...              101.5   \n\n   SodiumContent CarbohydrateContent FiberContent  SugarContent  \\\n2            1.8                81.5          0.4          77.2   \n6          557.2                29.1          3.1           5.0   \n11         848.9                13.7          0.6           2.0   \n16         534.8                67.0          1.6          47.9   \n18         269.8                52.2          0.7          39.9   \n\n    ProteinContent  RecipeServings  RecipeYield  \\\n2              0.3             4.0         None   \n6             45.3             2.0         None   \n11            57.9             6.0         None   \n16             5.0            12.0      1 bundt   \n18             5.0             8.0         None   \n\n                                   RecipeInstructions  AverageRating  \n2   [Into a 1 quart Jar with tight fitting lid, pu...       4.333333  \n6   [Melt 1 1/2 ozs butter, add the flour and cook...       4.545455  \n11  [Cook mushrooms in 2 tbsp butter in a large  s...       4.350000  \n16  [Beat together the eggs, oil, and white sugar....       4.235294  \n18  [Preheat oven to 400°F., Beat the butter and s...       4.238095  \n\n[5 rows x 29 columns]",
      "text/html": "<div>\n<style scoped>\n    .dataframe tbody tr th:only-of-type {\n        vertical-align: middle;\n    }\n\n    .dataframe tbody tr th {\n        vertical-align: top;\n    }\n\n    .dataframe thead th {\n        text-align: right;\n    }\n</style>\n<table border=\"1\" class=\"dataframe\">\n  <thead>\n    <tr style=\"text-align: right;\">\n      <th></th>\n      <th>RecipeId</th>\n      <th>Name</th>\n      <th>AuthorId</th>\n      <th>AuthorName</th>\n      <th>CookTime</th>\n      <th>PrepTime</th>\n      <th>TotalTime</th>\n      <th>DatePublished</th>\n      <th>Description</th>\n      <th>Images</th>\n      <th>...</th>\n      <th>CholesterolContent</th>\n      <th>SodiumContent</th>\n      <th>CarbohydrateContent</th>\n      <th>FiberContent</th>\n      <th>SugarContent</th>\n      <th>ProteinContent</th>\n      <th>RecipeServings</th>\n      <th>RecipeYield</th>\n      <th>RecipeInstructions</th>\n      <th>AverageRating</th>\n    </tr>\n  </thead>\n  <tbody>\n    <tr>\n      <th>2</th>\n      <td>40.0</td>\n      <td>Best Lemonade</td>\n      <td>1566</td>\n      <td>Stephen Little</td>\n      <td>PT5M</td>\n      <td>PT30M</td>\n      <td>PT35M</td>\n      <td>1999-09-05 19:52:00+00:00</td>\n      <td>This is from one of my  first Good House Keepi...</td>\n      <td>[https://img.sndimg.com/food/image/upload/w_55...</td>\n      <td>...</td>\n      <td>0.0</td>\n      <td>1.8</td>\n      <td>81.5</td>\n      <td>0.4</td>\n      <td>77.2</td>\n      <td>0.3</td>\n      <td>4.0</td>\n      <td>None</td>\n      <td>[Into a 1 quart Jar with tight fitting lid, pu...</td>\n      <td>4.333333</td>\n    </tr>\n    <tr>\n      <th>6</th>\n      <td>44.0</td>\n      <td>Warm Chicken A La King</td>\n      <td>1596</td>\n      <td>Joan Edington</td>\n      <td>PT3M</td>\n      <td>PT35M</td>\n      <td>PT38M</td>\n      <td>1999-09-17 04:47:00+00:00</td>\n      <td>I copied this one out of a friend's book so ma...</td>\n      <td>[https://img.sndimg.com/food/image/upload/w_55...</td>\n      <td>...</td>\n      <td>405.8</td>\n      <td>557.2</td>\n      <td>29.1</td>\n      <td>3.1</td>\n      <td>5.0</td>\n      <td>45.3</td>\n      <td>2.0</td>\n      <td>None</td>\n      <td>[Melt 1 1/2 ozs butter, add the flour and cook...</td>\n      <td>4.545455</td>\n    </tr>\n    <tr>\n      <th>11</th>\n      <td>49.0</td>\n      <td>Chicken Breasts Lombardi</td>\n      <td>174711</td>\n      <td>Queen Dragon Mom</td>\n      <td>PT30M</td>\n      <td>PT45M</td>\n      <td>PT1H15M</td>\n      <td>1999-08-14 19:58:00+00:00</td>\n      <td>Make and share this Chicken Breasts Lombardi r...</td>\n      <td>[https://img.sndimg.com/food/image/upload/w_55...</td>\n      <td>...</td>\n      <td>203.0</td>\n      <td>848.9</td>\n      <td>13.7</td>\n      <td>0.6</td>\n      <td>2.0</td>\n      <td>57.9</td>\n      <td>6.0</td>\n      <td>None</td>\n      <td>[Cook mushrooms in 2 tbsp butter in a large  s...</td>\n      <td>4.350000</td>\n    </tr>\n    <tr>\n      <th>16</th>\n      <td>54.0</td>\n      <td>Carrot Cake</td>\n      <td>1535</td>\n      <td>Marg CaymanDesigns</td>\n      <td>PT50M</td>\n      <td>PT45M</td>\n      <td>PT1H35M</td>\n      <td>1999-09-13 15:20:00+00:00</td>\n      <td>This is one of the few recipes my husband ever...</td>\n      <td>[https://img.sndimg.com/food/image/upload/w_55...</td>\n      <td>...</td>\n      <td>69.8</td>\n      <td>534.8</td>\n      <td>67.0</td>\n      <td>1.6</td>\n      <td>47.9</td>\n      <td>5.0</td>\n      <td>12.0</td>\n      <td>1 bundt</td>\n      <td>[Beat together the eggs, oil, and white sugar....</td>\n      <td>4.235294</td>\n    </tr>\n    <tr>\n      <th>18</th>\n      <td>56.0</td>\n      <td>Buttermilk Pie</td>\n      <td>1581</td>\n      <td>thefensk</td>\n      <td>PT1H</td>\n      <td>PT20M</td>\n      <td>PT1H20M</td>\n      <td>1999-08-30 10:02:00+00:00</td>\n      <td>This recipe was originally noted by my wife on...</td>\n      <td>[https://img.sndimg.com/food/image/upload/w_55...</td>\n      <td>...</td>\n      <td>101.5</td>\n      <td>269.8</td>\n      <td>52.2</td>\n      <td>0.7</td>\n      <td>39.9</td>\n      <td>5.0</td>\n      <td>8.0</td>\n      <td>None</td>\n      <td>[Preheat oven to 400°F., Beat the butter and s...</td>\n      <td>4.238095</td>\n    </tr>\n  </tbody>\n</table>\n<p>5 rows × 29 columns</p>\n</div>"
     },
     "execution_count": 5,
     "metadata": {},
     "output_type": "execute_result"
    }
   ],
   "source": [
    "recipes.head()"
   ]
  },
  {
   "cell_type": "code",
   "execution_count": 6,
   "id": "cc51869f25f01711",
   "metadata": {
    "ExecuteTime": {
     "end_time": "2023-10-26T01:20:42.866181154Z",
     "start_time": "2023-10-26T01:20:42.856216918Z"
    }
   },
   "outputs": [],
   "source": [
    "recipes['RecipeIngredientQuantities'].fillna(0, inplace=True)"
   ]
  },
  {
   "cell_type": "code",
   "execution_count": 7,
   "id": "ef3aaff3c8f1145a",
   "metadata": {
    "ExecuteTime": {
     "end_time": "2023-10-26T01:20:44.096207805Z",
     "start_time": "2023-10-26T01:20:43.630456309Z"
    }
   },
   "outputs": [
    {
     "data": {
      "text/plain": "  0%|          | 0/56811 [00:00<?, ?it/s]",
      "application/vnd.jupyter.widget-view+json": {
       "version_major": 2,
       "version_minor": 0,
       "model_id": "e8e7616e0d26497e8c8283dcbabed507"
      }
     },
     "metadata": {},
     "output_type": "display_data"
    }
   ],
   "source": [
    "# Combine the ingrediate quantities RecipeIngredientQuantities with the RecipeIngredientParts to create a single string with the format: \"<quantity> <ingredient name>\"\n",
    "recipes['Ingredients'] = recipes.progress_apply(lambda x: [x['RecipeIngredientQuantities'], x['RecipeIngredientParts']], axis=1)"
   ]
  },
  {
   "cell_type": "code",
   "execution_count": 8,
   "id": "4b4a9f40fed2af8d",
   "metadata": {
    "ExecuteTime": {
     "end_time": "2023-10-26T01:20:44.825483568Z",
     "start_time": "2023-10-26T01:20:44.820338004Z"
    }
   },
   "outputs": [
    {
     "data": {
      "text/plain": "2     [[1 1⁄2, 1, None, 1 1⁄2, None, 3⁄4], [sugar, l...\n6     [[12, 2, 3, 450, 1, 2, 1⁄4, 1, None, None, 2, ...\n11    [[2, 2, 12, 1⁄2, 1⁄3, 3⁄4, 1⁄2, 1⁄2, 1⁄2, 1⁄2,...\n16    [[3, 4, 1 1⁄4, 2, 2, 2, 2, 1, 1, 1⁄2, 1, 1 1⁄4...\n18    [[1⁄2, 1 1⁄2, 3, 3, 1, 1, 1, 1], [butter, marg...\nName: Ingredients, dtype: object"
     },
     "execution_count": 8,
     "metadata": {},
     "output_type": "execute_result"
    }
   ],
   "source": [
    "recipes['Ingredients'].head()"
   ]
  },
  {
   "cell_type": "code",
   "execution_count": 9,
   "id": "325428cf063b0880",
   "metadata": {
    "ExecuteTime": {
     "end_time": "2023-10-26T01:20:45.689675352Z",
     "start_time": "2023-10-26T01:20:45.538693631Z"
    }
   },
   "outputs": [
    {
     "data": {
      "text/plain": "  0%|          | 0/56811 [00:00<?, ?it/s]",
      "application/vnd.jupyter.widget-view+json": {
       "version_major": 2,
       "version_minor": 0,
       "model_id": "edce1f9bf52e47739a8a1d4076a0abd0"
      }
     },
     "metadata": {},
     "output_type": "display_data"
    },
    {
     "name": "stdout",
     "output_type": "stream",
     "text": [
      "2     1 1⁄2 sugar, 1 lemons, rind of, 1 1⁄2 fresh water\n",
      "6     12 chicken, 2 butter, 3 flour, 450 milk, 1 cel...\n",
      "11    2 fresh mushrooms, 2 butter, 12 boneless skinl...\n",
      "16    3 carrots, 4 eggs, 1 1⁄4 white sugar, 2 all-pu...\n",
      "18    1⁄2 butter, 1 1⁄2 margarine, 3 sugar, 3 flour,...\n",
      "Name: Combined Ingredients, dtype: object\n"
     ]
    }
   ],
   "source": [
    "# Enable tqdm in pandas\n",
    "tqdm.pandas()\n",
    "\n",
    "# Function to combine numbers and ingredients into a single string\n",
    "def combine_ingredients(row):\n",
    "    numbers, ingredients = row\n",
    "    if not isinstance(numbers, np.ndarray) or not isinstance(ingredients, np.ndarray):\n",
    "        return np.nan\n",
    "    \n",
    "    combined = []\n",
    "    for num, ing in zip(numbers, ingredients):\n",
    "        if num is None and ing is not None:\n",
    "            continue  # Skip if either number or ingredient is None\n",
    "        combined.append(f\"{num} {ing}\")\n",
    "    \n",
    "    return ', '.join(combined)\n",
    "\n",
    "# Apply the function to each row with progress bar\n",
    "recipes['Combined Ingredients'] = recipes['Ingredients'].progress_apply(combine_ingredients)\n",
    "\n",
    "# Print the result\n",
    "print(recipes['Combined Ingredients'].head())"
   ]
  },
  {
   "cell_type": "code",
   "execution_count": 10,
   "id": "6ba1a545e64fa846",
   "metadata": {
    "ExecuteTime": {
     "end_time": "2023-10-26T01:20:46.697889442Z",
     "start_time": "2023-10-26T01:20:46.693866538Z"
    }
   },
   "outputs": [
    {
     "data": {
      "text/plain": "2         1 1⁄2 sugar, 1 lemons, rind of, 1 1⁄2 fresh water\n6         12 chicken, 2 butter, 3 flour, 450 milk, 1 cel...\n11        2 fresh mushrooms, 2 butter, 12 boneless skinl...\n16        3 carrots, 4 eggs, 1 1⁄4 white sugar, 2 all-pu...\n18        1⁄2 butter, 1 1⁄2 margarine, 3 sugar, 3 flour,...\n                                ...                        \n520270    1 1⁄2 boneless skinless chicken breasts, 2 oli...\n520291    1 1⁄2 lean ground beef, 5 garlic cloves, 1  - ...\n520386    1 1⁄2 yukon gold potatoes, 1 salt, 1⁄2 lime, 1...\n520411               6 potatoes, 2 butter, 1 onion, 4 bacon\n520475                                             1 orange\nName: Combined Ingredients, Length: 56811, dtype: object"
     },
     "execution_count": 10,
     "metadata": {},
     "output_type": "execute_result"
    }
   ],
   "source": [
    "recipes['Combined Ingredients']"
   ]
  },
  {
   "cell_type": "code",
   "execution_count": 11,
   "id": "772f70a4",
   "metadata": {
    "ExecuteTime": {
     "end_time": "2023-10-26T01:20:47.579588852Z",
     "start_time": "2023-10-26T01:20:47.578433381Z"
    }
   },
   "outputs": [
    {
     "data": {
      "text/plain": "True"
     },
     "execution_count": 11,
     "metadata": {},
     "output_type": "execute_result"
    }
   ],
   "source": [
    "# Check to see if every value is a string\n",
    "recipes['Combined Ingredients'].apply(lambda x: isinstance(x, str)).all()"
   ]
  },
  {
   "cell_type": "code",
   "execution_count": 12,
   "outputs": [
    {
     "data": {
      "text/plain": "  0%|          | 0/56811 [00:00<?, ?it/s]",
      "application/vnd.jupyter.widget-view+json": {
       "version_major": 2,
       "version_minor": 0,
       "model_id": "cb143887becb40dbb365e505c4deedb4"
      }
     },
     "metadata": {},
     "output_type": "display_data"
    }
   ],
   "source": [
    "# Create a single string adding together the Name, Description, Ingredients, Instructions, and ratings columns with the following format: \"Name: <name> Description: <description> Ingredients: <ingredients> Instructions: <instructions> Ratings: <ratings>\" as a function to apply via .apply\n",
    "def combine_all_text_full(row):\n",
    "    name, description, ingredients, instructions, ratings = row.Name, row['Description'], row['Combined Ingredients'], row['RecipeInstructions'], row['AverageRating']\n",
    "    if not isinstance(name, str) or not isinstance(description, str) or not isinstance(ingredients, str) or not isinstance(instructions, np.ndarray) or not isinstance(ratings, float):\n",
    "        return np.nan\n",
    "    # Convert instructions to a string\n",
    "    instructions = ', '.join(instructions)\n",
    "    \n",
    "    # Convert ratings to a string\n",
    "    ratings = str(ratings)\n",
    "    \n",
    "    #return 'Name: ' + name + ' Description: ' + description\n",
    "    return 'Name: ' + name + ' Description: ' + description + ' Ingredients: ' + ingredients + ' Instructions: ' + instructions + ' Ratings: ' + ratings\n",
    "recipes['all_text_full'] = recipes.progress_apply(combine_all_text_full, axis=1)"
   ],
   "metadata": {
    "collapsed": false,
    "ExecuteTime": {
     "end_time": "2023-10-26T01:20:48.938711510Z",
     "start_time": "2023-10-26T01:20:48.042080632Z"
    }
   },
   "id": "96f587c02aec4b1e"
  },
  {
   "cell_type": "code",
   "execution_count": 13,
   "outputs": [
    {
     "data": {
      "text/plain": "  0%|          | 0/56811 [00:00<?, ?it/s]",
      "application/vnd.jupyter.widget-view+json": {
       "version_major": 2,
       "version_minor": 0,
       "model_id": "9943ada2bc03428f8a81e388f707b1ff"
      }
     },
     "metadata": {},
     "output_type": "display_data"
    }
   ],
   "source": [
    "# Create a single string adding together the Name, Description, Ingredients, Instructions, and ratings columns with the following format: \"Name: <name> Description: <description> Ingredients: <ingredients> Instructions: <instructions> Ratings: <ratings>\" as a function to apply via .apply\n",
    "def combine_all_text(row):\n",
    "    name, description, ingredients, instructions, ratings = row.Name, row['Description'], row['Combined Ingredients'], row['RecipeInstructions'], row['AverageRating']\n",
    "    if not isinstance(name, str) or not isinstance(description, str) or not isinstance(ingredients, str) or not isinstance(instructions, np.ndarray) or not isinstance(ratings, float):\n",
    "        return np.nan\n",
    "    # Convert instructions to a string\n",
    "    instructions = ', '.join(instructions)\n",
    "    \n",
    "    # Convert ratings to a string\n",
    "    ratings = str(ratings)\n",
    "    \n",
    "    return 'Name: ' + name + ' Description: ' + description\n",
    "    #return 'Name: ' + name + ' Description: ' + description + ' Ingredients: ' + ingredients + ' Instructions: ' + instructions + ' Ratings: ' + ratings\n",
    "recipes['all_text'] = recipes.progress_apply(combine_all_text, axis=1)"
   ],
   "metadata": {
    "collapsed": false,
    "ExecuteTime": {
     "end_time": "2023-10-26T01:20:50.579891617Z",
     "start_time": "2023-10-26T01:20:49.738500458Z"
    }
   },
   "id": "33ae8a0b1cc56ef3"
  },
  {
   "cell_type": "code",
   "execution_count": 14,
   "id": "d97d94c93e97bbd0",
   "metadata": {
    "ExecuteTime": {
     "end_time": "2023-10-26T01:20:51.209646771Z",
     "start_time": "2023-10-26T01:20:51.205082924Z"
    }
   },
   "outputs": [
    {
     "data": {
      "text/plain": "2         Name: Best Lemonade Description: This is from ...\n6         Name: Warm Chicken A La King Description: I co...\n11        Name: Chicken Breasts Lombardi Description: Ma...\n16        Name: Carrot Cake Description: This is one of ...\n18        Name: Buttermilk Pie Description: This recipe ...\n                                ...                        \n520270    Name: Creamy Tuscan Garlic Chicken Description...\n520291    Name: Nif's Easy Korean Beef and Rice Descript...\n520386    Name: Cuban Mojo Potatoes Description: Make an...\n520411    Name: Dutch Fried Potatoes (Gebakken Aardappel...\n520475    Name: Cinnamony Sweet Moroccan Orange Salad De...\nName: all_text, Length: 56811, dtype: object"
     },
     "execution_count": 14,
     "metadata": {},
     "output_type": "execute_result"
    }
   ],
   "source": [
    "recipes['all_text']"
   ]
  },
  {
   "cell_type": "code",
   "execution_count": 15,
   "outputs": [
    {
     "name": "stdout",
     "output_type": "stream",
     "text": [
      "False\n"
     ]
    }
   ],
   "source": [
    "print(recipes['all_text'].apply(lambda x: isinstance(x, str)).all()) # Check to see if every value is a string (True)\n",
    "\n",
    "# Find values that are not strings\n",
    "recipes[recipes['all_text'].apply(lambda x: isinstance(x, str) == False)]\n",
    "\n",
    "# Drop rows that are not strings\n",
    "recipes.drop(recipes[recipes['all_text'].apply(lambda x: isinstance(x, str) == False)].index, inplace=True)"
   ],
   "metadata": {
    "collapsed": false,
    "ExecuteTime": {
     "end_time": "2023-10-26T01:20:51.976090641Z",
     "start_time": "2023-10-26T01:20:51.917880948Z"
    }
   },
   "id": "25e8542ab7aa0252"
  },
  {
   "cell_type": "code",
   "execution_count": 16,
   "id": "32ee09ce239547",
   "metadata": {
    "ExecuteTime": {
     "end_time": "2023-10-26T01:20:53.565764093Z",
     "start_time": "2023-10-26T01:20:52.532640763Z"
    }
   },
   "outputs": [],
   "source": [
    "# Save as parquet file\n",
    "recipes.to_parquet('recipes_with_all_text.parquet')"
   ]
  },
  {
   "cell_type": "code",
   "execution_count": 17,
   "id": "9424d00618e9c992",
   "metadata": {
    "ExecuteTime": {
     "end_time": "2023-10-26T01:20:57.497877835Z",
     "start_time": "2023-10-26T01:20:57.487317984Z"
    }
   },
   "outputs": [],
   "source": [
    "just_all_text = pd.DataFrame(recipes[['all_text', 'all_text_full']])"
   ]
  },
  {
   "cell_type": "code",
   "execution_count": 18,
   "id": "9a668efbd72fee09",
   "metadata": {
    "ExecuteTime": {
     "end_time": "2023-10-26T01:20:57.985199455Z",
     "start_time": "2023-10-26T01:20:57.718099620Z"
    }
   },
   "outputs": [],
   "source": [
    "just_all_text.to_parquet('all_text.parquet')"
   ]
  },
  {
   "cell_type": "code",
   "execution_count": 19,
   "id": "256696f9eec10ccb",
   "metadata": {
    "ExecuteTime": {
     "end_time": "2023-10-26T01:21:02.369468372Z",
     "start_time": "2023-10-26T01:21:02.365506954Z"
    }
   },
   "outputs": [
    {
     "data": {
      "text/plain": "                                             all_text  \\\n2   Name: Best Lemonade Description: This is from ...   \n6   Name: Warm Chicken A La King Description: I co...   \n11  Name: Chicken Breasts Lombardi Description: Ma...   \n16  Name: Carrot Cake Description: This is one of ...   \n18  Name: Buttermilk Pie Description: This recipe ...   \n20  Name: Low-Fat Burgundy Beef & Vegetable Stew D...   \n24  Name: Black Bean, Corn, and Tomato Salad Descr...   \n27  Name: Black Coffee Barbecue Sauce Description:...   \n32  Name: Chicken and Dumplings Description: Make ...   \n33  Name: Brownie Pudding Description: Make and sh...   \n\n                                        all_text_full  \n2   Name: Best Lemonade Description: This is from ...  \n6   Name: Warm Chicken A La King Description: I co...  \n11  Name: Chicken Breasts Lombardi Description: Ma...  \n16  Name: Carrot Cake Description: This is one of ...  \n18  Name: Buttermilk Pie Description: This recipe ...  \n20  Name: Low-Fat Burgundy Beef & Vegetable Stew D...  \n24  Name: Black Bean, Corn, and Tomato Salad Descr...  \n27  Name: Black Coffee Barbecue Sauce Description:...  \n32  Name: Chicken and Dumplings Description: Make ...  \n33  Name: Brownie Pudding Description: Make and sh...  ",
      "text/html": "<div>\n<style scoped>\n    .dataframe tbody tr th:only-of-type {\n        vertical-align: middle;\n    }\n\n    .dataframe tbody tr th {\n        vertical-align: top;\n    }\n\n    .dataframe thead th {\n        text-align: right;\n    }\n</style>\n<table border=\"1\" class=\"dataframe\">\n  <thead>\n    <tr style=\"text-align: right;\">\n      <th></th>\n      <th>all_text</th>\n      <th>all_text_full</th>\n    </tr>\n  </thead>\n  <tbody>\n    <tr>\n      <th>2</th>\n      <td>Name: Best Lemonade Description: This is from ...</td>\n      <td>Name: Best Lemonade Description: This is from ...</td>\n    </tr>\n    <tr>\n      <th>6</th>\n      <td>Name: Warm Chicken A La King Description: I co...</td>\n      <td>Name: Warm Chicken A La King Description: I co...</td>\n    </tr>\n    <tr>\n      <th>11</th>\n      <td>Name: Chicken Breasts Lombardi Description: Ma...</td>\n      <td>Name: Chicken Breasts Lombardi Description: Ma...</td>\n    </tr>\n    <tr>\n      <th>16</th>\n      <td>Name: Carrot Cake Description: This is one of ...</td>\n      <td>Name: Carrot Cake Description: This is one of ...</td>\n    </tr>\n    <tr>\n      <th>18</th>\n      <td>Name: Buttermilk Pie Description: This recipe ...</td>\n      <td>Name: Buttermilk Pie Description: This recipe ...</td>\n    </tr>\n    <tr>\n      <th>20</th>\n      <td>Name: Low-Fat Burgundy Beef &amp; Vegetable Stew D...</td>\n      <td>Name: Low-Fat Burgundy Beef &amp; Vegetable Stew D...</td>\n    </tr>\n    <tr>\n      <th>24</th>\n      <td>Name: Black Bean, Corn, and Tomato Salad Descr...</td>\n      <td>Name: Black Bean, Corn, and Tomato Salad Descr...</td>\n    </tr>\n    <tr>\n      <th>27</th>\n      <td>Name: Black Coffee Barbecue Sauce Description:...</td>\n      <td>Name: Black Coffee Barbecue Sauce Description:...</td>\n    </tr>\n    <tr>\n      <th>32</th>\n      <td>Name: Chicken and Dumplings Description: Make ...</td>\n      <td>Name: Chicken and Dumplings Description: Make ...</td>\n    </tr>\n    <tr>\n      <th>33</th>\n      <td>Name: Brownie Pudding Description: Make and sh...</td>\n      <td>Name: Brownie Pudding Description: Make and sh...</td>\n    </tr>\n  </tbody>\n</table>\n</div>"
     },
     "execution_count": 19,
     "metadata": {},
     "output_type": "execute_result"
    }
   ],
   "source": [
    "just_all_text.head(10)"
   ]
  },
  {
   "cell_type": "code",
   "execution_count": 20,
   "id": "19851c04e49ca9fb",
   "metadata": {
    "ExecuteTime": {
     "end_time": "2023-10-26T01:21:05.975370631Z",
     "start_time": "2023-10-26T01:21:05.737524903Z"
    }
   },
   "outputs": [],
   "source": [
    "# Read just_all_text.parquet\n",
    "import pandas as pd\n",
    "just_all_text = pd.read_parquet('all_text.parquet')"
   ]
  },
  {
   "cell_type": "code",
   "execution_count": 21,
   "id": "d40a02ddb04d50d4",
   "metadata": {
    "ExecuteTime": {
     "end_time": "2023-10-26T01:21:06.037963482Z",
     "start_time": "2023-10-26T01:21:05.991289725Z"
    }
   },
   "outputs": [],
   "source": [
    "# Remove all rows with NaN values\n",
    "just_all_text.dropna(inplace=True)"
   ]
  },
  {
   "cell_type": "code",
   "execution_count": 22,
   "id": "feb1d2da1c11f7d5",
   "metadata": {
    "ExecuteTime": {
     "end_time": "2023-10-26T01:21:07.397169897Z",
     "start_time": "2023-10-26T01:21:07.126748799Z"
    }
   },
   "outputs": [],
   "source": [
    "# rewrite just_all_text to parquet file\n",
    "just_all_text.to_parquet('all_text.parquet')"
   ]
  }
 ],
 "metadata": {
  "kernelspec": {
   "display_name": "Python 3 (ipykernel)",
   "language": "python",
   "name": "python3"
  },
  "language_info": {
   "codemirror_mode": {
    "name": "ipython",
    "version": 3
   },
   "file_extension": ".py",
   "mimetype": "text/x-python",
   "name": "python",
   "nbconvert_exporter": "python",
   "pygments_lexer": "ipython3",
   "version": "3.11.5"
  }
 },
 "nbformat": 4,
 "nbformat_minor": 5
}
