{
 "cells": [
  {
   "cell_type": "markdown",
   "source": [],
   "metadata": {
    "collapsed": false
   },
   "id": "233a51ec19751b88"
  },
  {
   "cell_type": "code",
   "execution_count": 3,
   "outputs": [
    {
     "name": "stdout",
     "output_type": "stream",
     "text": [
      "None\n"
     ]
    }
   ],
   "source": [
    "# Import pinceone key from environment\n",
    "import os\n",
    "\n",
    "PINECONE_KEY = os.environ.get('PINECONE_KEY')\n",
    "print(PINECONE_KEY)"
   ],
   "metadata": {
    "collapsed": false,
    "ExecuteTime": {
     "end_time": "2023-10-26T01:05:08.509204437Z",
     "start_time": "2023-10-26T01:05:08.498634197Z"
    }
   },
   "id": "97ab17f5a68b76f2"
  },
  {
   "cell_type": "code",
   "execution_count": 2,
   "outputs": [
    {
     "name": "stdout",
     "output_type": "stream",
     "text": [
      "None\n"
     ]
    }
   ],
   "source": [
    "print(PINECONE_KEY)"
   ],
   "metadata": {
    "collapsed": false,
    "ExecuteTime": {
     "end_time": "2023-10-26T01:04:45.278946812Z",
     "start_time": "2023-10-26T01:04:45.275306523Z"
    }
   },
   "id": "1618fc70a30794d0"
  },
  {
   "cell_type": "code",
   "execution_count": 2,
   "outputs": [],
   "source": [
    "import pinecone\n",
    "# Initialize Pinecone\n",
    "pinecone.init(api_key=PINECONE_KEY, environment='gcp-starter')\n",
    "# Get index recipe-index\n",
    "index = pinecone.Index(\"recipe-index\")\n",
    "import numpy as np\n",
    "import torch\n",
    "from transformers import BertTokenizer, BertModel\n",
    "device = 'cuda' if torch.cuda.is_available() else 'cpu'\n",
    "# Load pre-trained model tokenizer and model\n",
    "tokenizer = BertTokenizer.from_pretrained('bert-base-uncased')\n",
    "model = BertModel.from_pretrained('bert-base-uncased')\n",
    "model.to(device)  # Move model to GPU if available\n",
    "model.eval()  # Set model to evaluation mode\n",
    "\n",
    "def get_embeddings(text):\n",
    "    # Tokenize input text\n",
    "    input_ids = torch.tensor(tokenizer.encode(text)).unsqueeze(0).to(device)\n",
    "    # Get the embeddings\n",
    "    with torch.no_grad():\n",
    "        outputs = model(input_ids)\n",
    "        embeddings = outputs[0][0, 1:-1, :]\n",
    "    # Get the average embedding\n",
    "    return embeddings.mean(dim=0).cpu().numpy().tolist()\n",
    "\n",
    "# Query it with a vector\n",
    "vector = get_embeddings(\"Chocolate cake with frosting\")\n",
    "pinecone_results = index.query(vector=vector, top_k=5, include_distance=True, include_vector=True, include_metadata=True)"
   ],
   "metadata": {
    "collapsed": false,
    "ExecuteTime": {
     "end_time": "2023-09-30T05:49:34.279774698Z",
     "start_time": "2023-09-30T05:49:32.809225777Z"
    }
   },
   "id": "c69dc571a06ca6eb"
  },
  {
   "cell_type": "code",
   "execution_count": 7,
   "outputs": [
    {
     "data": {
      "text/plain": "{'matches': [{'id': '148221',\n              'metadata': {'all_text': 'Name: Chocolate Glaze (That Hardens '\n                                       'when Cool) Description: ISO: Chocolate '\n                                       'Glaze that dries hard using cocoa and '\n                                       'without... Saw this and found the '\n                                       'answer.  This would be good now with '\n                                       \"Valentine's Day is near.  Try using it \"\n                                       'like those chocolate dips they have in '\n                                       'ice cream shops; it hardens into a '\n                                       'shell on the ice cream.  Or use it to '\n                                       'top your favorite cookie, cupcake, '\n                                       'cheesecake, brownie, etc.. '\n                                       'Ingredients: 2 margarine, 2 hot water, '\n                                       \"2 confectioners' sugar, 1 vanilla \"\n                                       'Instructions: Combine melted margarine '\n                                       'or oil, cocoa, and hot water., Blend '\n                                       \"in confectioners' sugar and vanilla., \"\n                                       'Pour or spread on brownies or cake., '\n                                       'Glaze will harden when cool. Ratings: '\n                                       '3.72'},\n              'score': 0.609958708,\n              'values': []},\n             {'id': '110845',\n              'metadata': {'all_text': 'Name: Chocolate Caramel Fondue '\n                                       'Description: I saw this on the '\n                                       'FoodNetwork and used it for a '\n                                       \"chocolate fondue party in my son's \"\n                                       \"class this year on Valentine's Day.  \"\n                                       'It was a hit. Ingredients: 16 '\n                                       'chocolate Instructions: Melt '\n                                       'ingredients on stove top over med. '\n                                       'heat, stirring until mixture is melted '\n                                       'and smooth.  Place in fondue pot and '\n                                       \"watch closely so that it doesn't boil \"\n                                       'or scorch., Serve with dippers such '\n                                       'as: strawberries, bananas, pretzels, '\n                                       'pound cake or angel food cake, '\n                                       'marshmallows, dried fruit. etc. '\n                                       'Ratings: 4.6'},\n              'score': 0.604613066,\n              'values': []},\n             {'id': '138355',\n              'metadata': {'all_text': 'Name: The Ultimate Sour Cream '\n                                       'Cranberry-Streusel Bundt Cake '\n                                       \"Description: I can't say enough about \"\n                                       'this cake, it is moist, dense and '\n                                       'buttery!...  I have made this using '\n                                       'mini chocolate chips and just recently '\n                                       'made it with dried cranberries, I plan '\n                                       'on making this for the holidays to '\n                                       'serve to guests! I baked mine in a '\n                                       'tube pan. Since I am making this cake '\n                                       'again for the holidays, I plan on '\n                                       'adding in some red food colouring in '\n                                       'the glaze, and I will chop up frozen '\n                                       'or fresh cranberries and add them into '\n                                       'the cake batter,  but that is only '\n                                       'optional. Ingredients: 1 1⁄2 walnuts, '\n                                       '1 1⁄4 light brown sugar, 5 cinnamon, 6 '\n                                       'cocoa powder, 1⁄2 dried cranberries, 3 '\n                                       'cake flour, 1 1⁄2 baking powder, 1 1⁄2 '\n                                       'baking soda, 3⁄4 salt, 3⁄4 butter, 1 '\n                                       '1⁄2 sugar, 3 eggs, 1 1⁄2 vanilla, 1 '\n                                       'sour cream, 2 powdered sugar '\n                                       'Instructions: Set oven to 350°., '\n                                       'Generously butter a 12-cup Bundt pan '\n                                       '(can use a tube pan also)., In a bowl '\n                                       'mix together all streusel ingredients; '\n                                       'set aside., For the cake: sift '\n                                       'together the flour, baking powder, '\n                                       'baking soda and salt., In a large bowl '\n                                       'using an electric mixer cream the '\n                                       'butter and sugar with vanilla for 5-6 '\n                                       'minutes., Beat in eggs one at a time '\n                                       'until well blended., Add in sour cream '\n                                       'until well blended., Mix in the flour '\n                                       'mixture alternately into butter '\n                                       'mixture in 3 additions; then beat on '\n                                       'high speed for 1 minute., Pour 1/3 of '\n                                       'the batter into prepared baking pan., '\n                                       'Sprinkle with half of the streusel '\n                                       'mixture., Spoon another 1/3 batter '\n                                       'over the streusel mixture., Sprinkle '\n                                       'with remaining streusel mixture, and '\n                                       'then spoon the remaining batter over., '\n                                       'Bake cake for about 1 hour or until '\n                                       'cake tests done (it might take more or '\n                                       'less time to bake)., Cool for about 15 '\n                                       'minutes, then carefully run a knife '\n                                       'around the sides of the pan to loosen '\n                                       'cake., Turn the cake out onto a rack '\n                                       'to cool completely., In a bowl whisk '\n                                       'together the confectioners sugar and 2 '\n                                       'tablespoons whipping cream '\n                                       'adding/whisking in more whipping cream '\n                                       'to create a THICK glaze (make sure it '\n                                       'is thick enough to cling to the '\n                                       'cake)., Drizzle over the cake. '\n                                       'Ratings: 5.0'},\n              'score': 0.601069033,\n              'values': []},\n             {'id': '141040',\n              'metadata': {'all_text': 'Name: Best Bread Dough Description: '\n                                       'This bread dough is great for dinner '\n                                       \"rolls, but it's also fantastic for \"\n                                       'loaf, kolaches and CINNAMON ROLLS!  It '\n                                       'can be made by hand, or in a 2lb bread '\n                                       'machine. (UPDATED!) Ingredients: 1⁄4 '\n                                       'warm water, 1 1⁄4 milk, 2 butter, 1 '\n                                       'egg, 1⁄2 salt, 1⁄4 sugar, 3 flour, 1 '\n                                       'instant vanilla pudding, 1 butter, 1⁄2 '\n                                       'cinnamon, 1⁄3 sugar Instructions: '\n                                       'DOUGH BY HAND: Mix water, yeast and '\n                                       'sugar. Set aside., Mix ALL of the '\n                                       'pudding mix with the milk., Add melted '\n                                       'butter, egg and salt. Mix well. For '\n                                       \"really soft rolls, don't use the egg; \"\n                                       'for cinnamon rolls, the egg is a must '\n                                       '-- otherwise they flatten out (but '\n                                       \"they're still tasty!)., Add yeast \"\n                                       'mixture. Mix, then knead in flour '\n                                       'until dough is smooth., Set in a warm '\n                                       'place for 1 hour, then punch it down.  '\n                                       'Let it rise again for another 45 '\n                                       'minutes., DOUGH IN 2LB BREAD MACHINE: '\n                                       'Put the ingredients in the machine in '\n                                       'the order listed above.  Use the DOUGH '\n                                       'setting., DO NOT COOK A LOAF OF THIS '\n                                       'IN THE BREAD MACHINE! It is a very '\n                                       'airy bread, and it will probably ruin '\n                                       'your bread machine! (Lesson learned '\n                                       'the hard way -- )., TO MAKE DINNER '\n                                       'ROLLS: Form the dough into 1.5 to 2 '\n                                       'inch balls, and place 1 inch apart on '\n                                       'a cookie sheet.  Bake in 350 degree '\n                                       'oven for 15 to 20 minutes until golden '\n                                       'on top., TO MAKE KOLACHES: Form the '\n                                       'dough into 1.5 to 2 inch balls. Put '\n                                       'mini-sausage and cheese on top, then '\n                                       'pull the dough around and wrap it up '\n                                       'as best you can.  Place 1 inch apart '\n                                       'on a cookie sheet. Bake as for DINNER '\n                                       'ROLLS., CINNAMON ROLLS: Roll dough to '\n                                       '0.25 inch thick rectangle on a floured '\n                                       'surface.  Mix 1/2 cup melted butter, '\n                                       '1/3 cup cinnamon and 1 cup sugar; '\n                                       'spread evenly (as best you can) over '\n                                       'the surface of the dough., Roll up '\n                                       'tightly, starting from a long side. '\n                                       'Slice at 1 to 2 inch intervals.  Place '\n                                       'slices on a greased cookie sheet, 2 '\n                                       'inches apart. (Pour a little melted '\n                                       'butter over each one to make the rolls '\n                                       'extra moist!)., Cover and let rise 30 '\n                                       'minutes., Bake at 350 degrees for 15 - '\n                                       '20 minutes.  Remove them as soon as '\n                                       'they turn golden.  Frost with cream '\n                                       'cheese frosting. Ratings: 5.0'},\n              'score': 0.598504961,\n              'values': []},\n             {'id': '38380',\n              'metadata': {'all_text': 'Name: Marshmallow Creme Frosting '\n                                       'Description: Delicious frosting to top '\n                                       'cakes or cupcakes. I used this one on '\n                                       'my cousins wedding cake, and people '\n                                       'just raved about it. The only thing '\n                                       'easier could be opening a tub of ready '\n                                       'made icing. I imagine I found the '\n                                       'recipe on the back of the marshmallow '\n                                       'fluff but have just tinkered with it '\n                                       'till this is the one I use. '\n                                       'Ingredients: 1 1⁄3 margarine, 2 '\n                                       'marshmallow cream, 1 vanilla extract, '\n                                       '1 milk, 1  - 1 1⁄2 powdered sugar '\n                                       'Instructions: Blend margarine and '\n                                       'marshmallow creme together till '\n                                       'smooth., Add liquids and mix well., '\n                                       'Blend in powdered sugar and beat till '\n                                       'smooth and creamy., If thinner '\n                                       'frosting is desired, simply add more '\n                                       'milk. Ratings: 3.6'},\n              'score': 0.593982399,\n              'values': []}],\n 'namespace': ''}"
     },
     "execution_count": 7,
     "metadata": {},
     "output_type": "execute_result"
    }
   ],
   "source": [
    "pinecone_results"
   ],
   "metadata": {
    "collapsed": false,
    "ExecuteTime": {
     "end_time": "2023-09-30T05:50:32.878961771Z",
     "start_time": "2023-09-30T05:50:32.836730870Z"
    }
   },
   "id": "14b8615369d69223"
  },
  {
   "cell_type": "code",
   "execution_count": 4,
   "outputs": [
    {
     "ename": "TypeError",
     "evalue": "'NoneType' object is not subscriptable",
     "output_type": "error",
     "traceback": [
      "\u001B[0;31m---------------------------------------------------------------------------\u001B[0m",
      "\u001B[0;31mTypeError\u001B[0m                                 Traceback (most recent call last)",
      "Cell \u001B[0;32mIn[4], line 1\u001B[0m\n\u001B[0;32m----> 1\u001B[0m \u001B[38;5;28;01mfor\u001B[39;00m idx, score, metadata \u001B[38;5;129;01min\u001B[39;00m \u001B[38;5;28mzip\u001B[39m(pinecone_results\u001B[38;5;241m.\u001B[39mids[\u001B[38;5;241m0\u001B[39m], pinecone_results\u001B[38;5;241m.\u001B[39mscores[\u001B[38;5;241m0\u001B[39m], pinecone_results\u001B[38;5;241m.\u001B[39mmetadata[\u001B[38;5;241m0\u001B[39m]):\n\u001B[1;32m      2\u001B[0m     \u001B[38;5;28mprint\u001B[39m(\u001B[38;5;124mf\u001B[39m\u001B[38;5;124m\"\u001B[39m\u001B[38;5;124mID: \u001B[39m\u001B[38;5;132;01m{\u001B[39;00midx\u001B[38;5;132;01m}\u001B[39;00m\u001B[38;5;124m, Score: \u001B[39m\u001B[38;5;132;01m{\u001B[39;00mscore\u001B[38;5;132;01m}\u001B[39;00m\u001B[38;5;124m\"\u001B[39m)\n\u001B[1;32m      3\u001B[0m     \u001B[38;5;28mprint\u001B[39m(\u001B[38;5;124m\"\u001B[39m\u001B[38;5;124mAssociated Text Data:\u001B[39m\u001B[38;5;124m\"\u001B[39m, metadata\u001B[38;5;241m.\u001B[39mget(\u001B[38;5;124m\"\u001B[39m\u001B[38;5;124mall_text\u001B[39m\u001B[38;5;124m\"\u001B[39m))\n",
      "\u001B[0;31mTypeError\u001B[0m: 'NoneType' object is not subscriptable"
     ]
    }
   ],
   "source": [
    "for idx, score, metadata in zip(pinecone_results.ids[0], pinecone_results.scores[0], pinecone_results.metadata[0]):\n",
    "    print(f\"ID: {idx}, Score: {score}\")\n",
    "    print(\"Associated Text Data:\", metadata.get(\"all_text\"))\n",
    "    print(\"---\" * 10)"
   ],
   "metadata": {
    "collapsed": false,
    "ExecuteTime": {
     "end_time": "2023-09-30T05:49:56.030291055Z",
     "start_time": "2023-09-30T05:49:56.011141264Z"
    }
   },
   "id": "5166d1bc5da98354"
  },
  {
   "cell_type": "code",
   "execution_count": null,
   "outputs": [],
   "source": [],
   "metadata": {
    "collapsed": false
   },
   "id": "65147541a8f99f29"
  }
 ],
 "metadata": {
  "kernelspec": {
   "display_name": "Python 3",
   "language": "python",
   "name": "python3"
  },
  "language_info": {
   "codemirror_mode": {
    "name": "ipython",
    "version": 2
   },
   "file_extension": ".py",
   "mimetype": "text/x-python",
   "name": "python",
   "nbconvert_exporter": "python",
   "pygments_lexer": "ipython2",
   "version": "2.7.6"
  }
 },
 "nbformat": 4,
 "nbformat_minor": 5
}
