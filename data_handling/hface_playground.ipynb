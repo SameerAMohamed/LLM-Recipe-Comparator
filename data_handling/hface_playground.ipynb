{
 "cells": [
  {
   "cell_type": "markdown",
   "source": [
    "## This shows how to use Langchain and huggingface to get a single result from the huggingface API"
   ],
   "metadata": {
    "collapsed": false
   },
   "id": "24cbb91cee929df6"
  },
  {
   "cell_type": "code",
   "execution_count": 1,
   "id": "274e43a0-54a4-4eb6-9eb2-dba23ce49f69",
   "metadata": {
    "ExecuteTime": {
     "end_time": "2023-10-26T00:31:24.247342251Z",
     "start_time": "2023-10-26T00:31:23.417676144Z"
    }
   },
   "outputs": [],
   "source": [
    "#from langchain import HuggingFaceHub, LLMChain\n",
    "from langchain.chains import LLMChain\n",
    "from langchain.llms import HuggingFaceHub\n",
    "from langchain.prompts import PromptTemplate\n",
    "from langchain.memory import ConversationBufferMemory\n",
    "import os\n",
    "PINECONE_KEY = os.environ.get('PINECONE_KEY')\n",
    "HUGGINGFACE_KEY = os.environ.get('HUGGINGFACE_KEY')"
   ]
  },
  {
   "cell_type": "code",
   "execution_count": 2,
   "id": "65d4b956-e6da-4057-91cb-2529944f00e6",
   "metadata": {
    "ExecuteTime": {
     "end_time": "2023-10-26T00:31:27.452940386Z",
     "start_time": "2023-10-26T00:31:26.308021734Z"
    }
   },
   "outputs": [
    {
     "name": "stderr",
     "output_type": "stream",
     "text": [
      "/home/sameermohamed/miniconda3/envs/llm_comparator/lib/python3.11/site-packages/huggingface_hub/utils/_deprecation.py:127: FutureWarning: '__init__' (from 'huggingface_hub.inference_api') is deprecated and will be removed from version '0.19.0'. `InferenceApi` client is deprecated in favor of the more feature-complete `InferenceClient`. Check out this guide to learn how to convert your script to use it: https://huggingface.co/docs/huggingface_hub/guides/inference#legacy-inferenceapi-client.\n",
      "  warnings.warn(warning_message, FutureWarning)\n"
     ]
    }
   ],
   "source": [
    "key = HUGGINGFACE_KEY\n",
    "hf_llm = HuggingFaceHub(repo_id=\"google/flan-t5-xxl\", huggingfacehub_api_token=key, model_kwargs={\"temperature\": 0.5, \"max_length\": 4096})\n",
    "template = \"The following is 200 words: Question: What are the instructions and ingredients for a recipe of {recipe_name}? Answer: \"\n",
    "prompt = PromptTemplate(input_variables=[\"recipe_name\"],\n",
    "                        template=template)\n",
    "\n",
    "memory_length = 100\n",
    "memory = ConversationBufferMemory(k=memory_length)\n",
    "hub_chain = LLMChain(prompt=prompt, llm=hf_llm, verbose=True)\n",
    "\n",
    "def query_llm(prompt):\n",
    "    return hub_chain.run(prompt)"
   ]
  },
  {
   "cell_type": "code",
   "execution_count": 3,
   "id": "51fd0fe9-6903-4d9d-81fc-563456c06580",
   "metadata": {
    "ExecuteTime": {
     "end_time": "2023-10-26T00:31:29.357872462Z",
     "start_time": "2023-10-26T00:31:28.536678802Z"
    }
   },
   "outputs": [
    {
     "name": "stdout",
     "output_type": "stream",
     "text": [
      "\n",
      "\n",
      "\u001B[1m> Entering new LLMChain chain...\u001B[0m\n",
      "Prompt after formatting:\n",
      "\u001B[32;1m\u001B[1;3mThe following is 200 words: Question: What are the instructions and ingredients for a recipe of pancakes? Answer: \u001B[0m\n",
      "\n",
      "\u001B[1m> Finished chain.\u001B[0m\n"
     ]
    },
    {
     "data": {
      "text/plain": "'Mix together: 3 eggs, 1 cup melted butter, 1 cup milk (regular),'"
     },
     "execution_count": 3,
     "metadata": {},
     "output_type": "execute_result"
    }
   ],
   "source": [
    "response = hub_chain.run(\"pancakes\")\n",
    "response"
   ]
  }
 ],
 "metadata": {
  "kernelspec": {
   "display_name": "Python 3 (ipykernel)",
   "language": "python",
   "name": "python3"
  },
  "language_info": {
   "codemirror_mode": {
    "name": "ipython",
    "version": 3
   },
   "file_extension": ".py",
   "mimetype": "text/x-python",
   "name": "python",
   "nbconvert_exporter": "python",
   "pygments_lexer": "ipython3",
   "version": "3.10.13"
  }
 },
 "nbformat": 4,
 "nbformat_minor": 5
}
