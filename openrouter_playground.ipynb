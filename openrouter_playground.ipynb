{
 "cells": [
  {
   "cell_type": "code",
   "execution_count": 16,
   "outputs": [],
   "source": [
    "import pprint"
   ],
   "metadata": {
    "collapsed": false,
    "ExecuteTime": {
     "end_time": "2023-10-25T21:01:48.645944442Z",
     "start_time": "2023-10-25T21:01:48.602305315Z"
    }
   },
   "id": "13a3952e4a6f989e"
  },
  {
   "cell_type": "code",
   "execution_count": 3,
   "outputs": [],
   "source": [
    "from langchain.chains.llm import LLMChain\n",
    "from langchain.prompts import PromptTemplate"
   ],
   "metadata": {
    "collapsed": false,
    "ExecuteTime": {
     "end_time": "2023-10-25T20:57:07.542991898Z",
     "start_time": "2023-10-25T20:57:06.571155170Z"
    }
   },
   "id": "1737f5e63ea5eb8c"
  },
  {
   "cell_type": "code",
   "execution_count": 4,
   "outputs": [],
   "source": [
    "model_name = \"mistralai/mistral-7b-instruct\""
   ],
   "metadata": {
    "collapsed": false,
    "ExecuteTime": {
     "end_time": "2023-10-25T20:57:07.547088432Z",
     "start_time": "2023-10-25T20:57:07.543426251Z"
    }
   },
   "id": "472012e271729627"
  },
  {
   "cell_type": "code",
   "execution_count": 5,
   "outputs": [],
   "source": [
    "PROMPT = PromptTemplate(\n",
    "    input_variables=[\"recipe_name\"],\n",
    "    template=(\n",
    "        \"Question: What are the instructions and ingredients for a recipe of {recipe_name}? \"\n",
    "        \"Answer: \"\n",
    "    )\n",
    ")\n",
    "# ROUTE_CHAIN = LLMChain(prompt=PROMPT, llm=HF_LLM, verbose=True)"
   ],
   "metadata": {
    "collapsed": false,
    "ExecuteTime": {
     "end_time": "2023-10-25T20:57:07.552521747Z",
     "start_time": "2023-10-25T20:57:07.545962065Z"
    }
   },
   "id": "b05fccb4be81bbc6"
  },
  {
   "cell_type": "code",
   "execution_count": 12,
   "outputs": [
    {
     "data": {
      "text/plain": "'Question: What are the instructions and ingredients for a recipe of chocolate chip cookies? Answer: '"
     },
     "execution_count": 12,
     "metadata": {},
     "output_type": "execute_result"
    }
   ],
   "source": [
    "# Create a string from the prompt given the input variables\n",
    "content_to_pass = PROMPT.format(recipe_name=\"chocolate chip cookies\")\n",
    "content_to_pass"
   ],
   "metadata": {
    "collapsed": false,
    "ExecuteTime": {
     "end_time": "2023-10-25T21:00:52.070059767Z",
     "start_time": "2023-10-25T21:00:52.059368286Z"
    }
   },
   "id": "4086a91e3581ccd7"
  },
  {
   "cell_type": "code",
   "execution_count": 13,
   "id": "initial_id",
   "metadata": {
    "collapsed": true,
    "ExecuteTime": {
     "end_time": "2023-10-25T21:01:17.498505665Z",
     "start_time": "2023-10-25T21:01:05.639748061Z"
    }
   },
   "outputs": [],
   "source": [
    "import openai\n",
    "import os\n",
    "\n",
    "OPENROUTER_KEY = os.environ.get(\"OPENROUTER_KEY\")\n",
    "\n",
    "\n",
    "openai.api_base = \"https://openrouter.ai/api/v1\"\n",
    "openai.api_key = OPENROUTER_KEY\n",
    "\n",
    "response = openai.ChatCompletion.create(\n",
    "  model=model_name, # Optional (user controls the default)\n",
    "  messages=[{\"role\": \"user\", \"content\": content_to_pass}],\n",
    "  headers={\n",
    "    \"HTTP-Referer\": 'http://localhost:3000', # To identify your app. Can be set to e.g. http://localhost:3000 for testing\n",
    "#    \"X-Title\": $YOUR_APP_NAME, # Optional. Shows on openrouter.ai\n",
    "  },\n",
    ")\n",
    "\n",
    "reply = response.choices[0].message"
   ]
  },
  {
   "cell_type": "code",
   "execution_count": 18,
   "outputs": [
    {
     "name": "stdout",
     "output_type": "stream",
     "text": [
      "('Instructions:\\n'\n",
      " '\\n'\n",
      " '1. Preheat your oven to 375°F (190°C).\\n'\n",
      " '2. In a large mixing bowl, cream together 1 cup of unsalted butter and 1 cup '\n",
      " 'of white sugar until smooth.\\n'\n",
      " '3. Beat in 1 cup of brown sugar, then mix in 2 large eggs and 1 teaspoon of '\n",
      " 'vanilla extract.\\n'\n",
      " '4. In a separate bowl, whisk together 3 cups of all-purpose flour, 1 '\n",
      " 'teaspoon of baking soda, and 1 teaspoon of salt.\\n'\n",
      " '5. Gradually stir the dry ingredients into the wet ingredients until well '\n",
      " 'combined.\\n'\n",
      " '6. Fold in 2 cups of semisweet chocolate chips until evenly distributed.\\n'\n",
      " '7. Shape the dough into 1-inch balls and place them on a baking sheet lined '\n",
      " 'with parchment paper.\\n'\n",
      " '8. Bake for 10-12 minutes, or until the edges are lightly golden.\\n'\n",
      " '9. Let the cookies cool on the baking sheet for 5 minutes, then transfer '\n",
      " 'them to a wire rack to cool completely.\\n'\n",
      " '\\n'\n",
      " 'Ingredients:\\n'\n",
      " '\\n'\n",
      " '* 1 cup unsalted butter\\n'\n",
      " '* 1 cup white sugar\\n'\n",
      " '* 1 cup brown sugar\\n'\n",
      " '* 2 large eggs\\n'\n",
      " '* 1 teaspoon vanilla extract\\n'\n",
      " '* 3 cups all-purpose flour\\n'\n",
      " '* 1 teaspoon baking soda\\n'\n",
      " '* 1 teaspoon salt\\n'\n",
      " '* 2 cups semisweet chocolate chips')\n"
     ]
    }
   ],
   "source": [
    "pprint.pprint(reply[\"content\"])"
   ],
   "metadata": {
    "collapsed": false,
    "ExecuteTime": {
     "end_time": "2023-10-25T21:01:58.891129617Z",
     "start_time": "2023-10-25T21:01:58.878244293Z"
    }
   },
   "id": "1d4f1223b0d24c32"
  },
  {
   "cell_type": "code",
   "execution_count": null,
   "outputs": [],
   "source": [],
   "metadata": {
    "collapsed": false
   },
   "id": "cdc29fa6d918cc6a"
  }
 ],
 "metadata": {
  "kernelspec": {
   "display_name": "Python 3",
   "language": "python",
   "name": "python3"
  },
  "language_info": {
   "codemirror_mode": {
    "name": "ipython",
    "version": 2
   },
   "file_extension": ".py",
   "mimetype": "text/x-python",
   "name": "python",
   "nbconvert_exporter": "python",
   "pygments_lexer": "ipython2",
   "version": "2.7.6"
  }
 },
 "nbformat": 4,
 "nbformat_minor": 5
}
